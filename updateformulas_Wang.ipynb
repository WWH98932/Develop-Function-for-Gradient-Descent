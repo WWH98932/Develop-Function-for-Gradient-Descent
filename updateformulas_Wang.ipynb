{
 "cells": [
  {
   "cell_type": "code",
   "execution_count": 144,
   "metadata": {
    "collapsed": true
   },
   "outputs": [],
   "source": [
    "import numpy as np\n",
    "\n",
    "def derivativesLoops(X, Y, W, b):\n",
    "    X = np.array(X)\n",
    "    Y = np.array(Y)\n",
    "    W = np.array(W)\n",
    "    y = np.zeros(len(Y))\n",
    "    dJdW = np.zeros(len(W))\n",
    "    dy = np.zeros(len(Y))\n",
    "\n",
    "    for k in range(len(W)):\n",
    "        dJdW[k] = 0\n",
    "        for i in range(len(Y)):\n",
    "            y[i] = 0 # y is yhat, the predicted value\n",
    "            y[i] = y[i] + W[k] * X[i]\n",
    "            y[i] = y[i] + b\n",
    "            dy[i] = Y[i] - y[i]\n",
    "            dJdW[k] = np.sum((dy[i] * X[i]) * (-2))\n",
    "    return dJdW        "
   ]
  },
  {
   "cell_type": "code",
   "execution_count": 152,
   "metadata": {},
   "outputs": [
    {
     "data": {
      "text/plain": [
       "array([   320. ,   1344. ,    -89.6,   -166.4,  10048. ])"
      ]
     },
     "execution_count": 152,
     "metadata": {},
     "output_type": "execute_result"
    }
   ],
   "source": [
    "derivativesLoops([10,12,16], [4,10,8], [1,3,0.2,0.05,20], 2)"
   ]
  },
  {
   "cell_type": "code",
   "execution_count": 40,
   "metadata": {},
   "outputs": [],
   "source": [
    "def derivativesMatrices(X, Y, W, b):\n",
    "    n = X.shape[0]\n",
    "    m = X.shape[1]\n",
    "    dy = np.zeros((1,m))\n",
    "    yhat = np.zeros((1,m))\n",
    "    dJdW = np.zeros((n,m))\n",
    "\n",
    "    for i in range(m):\n",
    "        for k in range(n):\n",
    "            dJdW[k,i] = 0\n",
    "            for i in range(m):\n",
    "                yhat[0,i] = 0\n",
    "                yhat[0,i] = yhat[0,i] + W[0,k] * X[k,i]\n",
    "                yhat[0,i] = yhat[0,i] + b[0,i]\n",
    "                dy[0,i] = Y[0,i] - yhat[0,i]\n",
    "                dJdW[k,i] = np.sum((-2) * (X[k,i] * dy[0,i]))\n",
    "\n",
    "    return dJdW"
   ]
  },
  {
   "cell_type": "code",
   "execution_count": 42,
   "metadata": {},
   "outputs": [
    {
     "data": {
      "text/plain": [
       "array([[ 160.,   96.,  320.]])"
      ]
     },
     "execution_count": 42,
     "metadata": {},
     "output_type": "execute_result"
    }
   ],
   "source": [
    "X = np.matrix('10,12,16')\n",
    "Y = np.matrix('4,10,8')\n",
    "W = np.matrix('1,3,0.2,0.05,20')\n",
    "b = np.matrix('2,2,2')\n",
    "\n",
    "derivativesMatrices(X,Y,W,b)"
   ]
  },
  {
   "cell_type": "code",
   "execution_count": null,
   "metadata": {
    "collapsed": true
   },
   "outputs": [],
   "source": []
  }
 ],
 "metadata": {
  "kernelspec": {
   "display_name": "Python 3",
   "language": "python",
   "name": "python3"
  },
  "language_info": {
   "codemirror_mode": {
    "name": "ipython",
    "version": 3
   },
   "file_extension": ".py",
   "mimetype": "text/x-python",
   "name": "python",
   "nbconvert_exporter": "python",
   "pygments_lexer": "ipython3",
   "version": "3.6.3"
  }
 },
 "nbformat": 4,
 "nbformat_minor": 2
}
